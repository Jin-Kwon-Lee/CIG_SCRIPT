{
 "cells": [
  {
   "cell_type": "code",
   "execution_count": 1,
   "id": "3b67e25a",
   "metadata": {},
   "outputs": [],
   "source": [
    "%load_ext autoreload\n",
    "%autoreload 2"
   ]
  },
  {
   "cell_type": "code",
   "execution_count": 148,
   "id": "6452c3a5",
   "metadata": {},
   "outputs": [],
   "source": [
    "import os\n",
    "import pandas as pd\n",
    "import numpy as np\n",
    "import sys\n",
    "\n",
    "import sys\n",
    "module_path = os.path.abspath(os.path.join('..'))\n",
    "if module_path not in sys.path:\n",
    "    sys.path.append(module_path)\n",
    "\n",
    "# pd.set_option('display.max_row', 50)"
   ]
  },
  {
   "cell_type": "code",
   "execution_count": 149,
   "id": "b7106f30",
   "metadata": {},
   "outputs": [],
   "source": [
    "from cig_script.mail_copy_input_format import _get_mail_in_format\n",
    "from cig_script.mail_copy_input_format import _get_shipper_info\n",
    "from cig_script.mail_copy_input_format import _get_consignee_info\n",
    "from cig_script.mail_copy_input_format import _get_column_from_dict"
   ]
  },
  {
   "cell_type": "code",
   "execution_count": 150,
   "id": "5865cb79",
   "metadata": {},
   "outputs": [],
   "source": [
    "local_path = 'C:/Users/USER/Desktop/CIG/backup_data/'"
   ]
  },
  {
   "cell_type": "code",
   "execution_count": 151,
   "id": "86a1abb7",
   "metadata": {},
   "outputs": [
    {
     "data": {
      "text/plain": [
       "'C:/Users/USER/Desktop/CIG/backup_data/input_format.xlsx'"
      ]
     },
     "execution_count": 151,
     "metadata": {},
     "output_type": "execute_result"
    }
   ],
   "source": [
    "excel_file = 'input_format.xlsx'\n",
    "excel_path = local_path + excel_file\n",
    "excel_path"
   ]
  },
  {
   "cell_type": "code",
   "execution_count": 158,
   "id": "149250cf",
   "metadata": {
    "scrolled": true
   },
   "outputs": [],
   "source": [
    "df = _get_mail_in_format(excel_path)\n",
    "ship_dict =  _get_shipper_info(df)\n",
    "con_dict,chassi_dict,acid_dict,import_dict,exp_dict,exp_cty_dict,BL_cnt = _get_consignee_info(df)\n",
    "mail_dicts = (ship_dict,con_dict,chassi_dict,acid_dict,import_dict,exp_dict,exp_cty_dict)"
   ]
  },
  {
   "cell_type": "code",
   "execution_count": 159,
   "id": "61db8640",
   "metadata": {},
   "outputs": [],
   "source": [
    "cols = []\n",
    "cols = _get_column_from_dict(mail_dicts,cols)"
   ]
  },
  {
   "cell_type": "code",
   "execution_count": 164,
   "id": "dcce604f",
   "metadata": {},
   "outputs": [
    {
     "data": {
      "text/html": [
       "<div>\n",
       "<style scoped>\n",
       "    .dataframe tbody tr th:only-of-type {\n",
       "        vertical-align: middle;\n",
       "    }\n",
       "\n",
       "    .dataframe tbody tr th {\n",
       "        vertical-align: top;\n",
       "    }\n",
       "\n",
       "    .dataframe thead th {\n",
       "        text-align: right;\n",
       "    }\n",
       "</style>\n",
       "<table border=\"1\" class=\"dataframe\">\n",
       "  <thead>\n",
       "    <tr style=\"text-align: right;\">\n",
       "      <th></th>\n",
       "      <th>SHIPPER NAME:</th>\n",
       "      <th>CONSIGNEE NAME</th>\n",
       "      <th>MODEL</th>\n",
       "      <th>YR</th>\n",
       "      <th>CHASSINO</th>\n",
       "      <th>ACID NO</th>\n",
       "      <th>IMPORTER TAX NUMBER</th>\n",
       "      <th>FREIGHT FORWARDER ID</th>\n",
       "      <th>EXPORTER REGISTRATION COUNTRY</th>\n",
       "    </tr>\n",
       "  </thead>\n",
       "  <tbody>\n",
       "    <tr>\n",
       "      <th>1</th>\n",
       "      <td>NaN</td>\n",
       "      <td>NaN</td>\n",
       "      <td>NaN</td>\n",
       "      <td>NaN</td>\n",
       "      <td>NaN</td>\n",
       "      <td>NaN</td>\n",
       "      <td>NaN</td>\n",
       "      <td>NaN</td>\n",
       "      <td>NaN</td>\n",
       "    </tr>\n",
       "    <tr>\n",
       "      <th>2</th>\n",
       "      <td>NaN</td>\n",
       "      <td>NaN</td>\n",
       "      <td>NaN</td>\n",
       "      <td>NaN</td>\n",
       "      <td>NaN</td>\n",
       "      <td>NaN</td>\n",
       "      <td>NaN</td>\n",
       "      <td>NaN</td>\n",
       "      <td>NaN</td>\n",
       "    </tr>\n",
       "    <tr>\n",
       "      <th>3</th>\n",
       "      <td>NaN</td>\n",
       "      <td>NaN</td>\n",
       "      <td>NaN</td>\n",
       "      <td>NaN</td>\n",
       "      <td>NaN</td>\n",
       "      <td>NaN</td>\n",
       "      <td>NaN</td>\n",
       "      <td>NaN</td>\n",
       "      <td>NaN</td>\n",
       "    </tr>\n",
       "    <tr>\n",
       "      <th>4</th>\n",
       "      <td>NaN</td>\n",
       "      <td>NaN</td>\n",
       "      <td>NaN</td>\n",
       "      <td>NaN</td>\n",
       "      <td>NaN</td>\n",
       "      <td>NaN</td>\n",
       "      <td>NaN</td>\n",
       "      <td>NaN</td>\n",
       "      <td>NaN</td>\n",
       "    </tr>\n",
       "    <tr>\n",
       "      <th>5</th>\n",
       "      <td>NaN</td>\n",
       "      <td>NaN</td>\n",
       "      <td>NaN</td>\n",
       "      <td>NaN</td>\n",
       "      <td>NaN</td>\n",
       "      <td>NaN</td>\n",
       "      <td>NaN</td>\n",
       "      <td>NaN</td>\n",
       "      <td>NaN</td>\n",
       "    </tr>\n",
       "  </tbody>\n",
       "</table>\n",
       "</div>"
      ],
      "text/plain": [
       "  SHIPPER NAME: CONSIGNEE NAME MODEL   YR CHASSINO ACID NO  \\\n",
       "1           NaN            NaN   NaN  NaN      NaN     NaN   \n",
       "2           NaN            NaN   NaN  NaN      NaN     NaN   \n",
       "3           NaN            NaN   NaN  NaN      NaN     NaN   \n",
       "4           NaN            NaN   NaN  NaN      NaN     NaN   \n",
       "5           NaN            NaN   NaN  NaN      NaN     NaN   \n",
       "\n",
       "  IMPORTER TAX NUMBER FREIGHT FORWARDER ID EXPORTER REGISTRATION COUNTRY  \n",
       "1                 NaN                  NaN                           NaN  \n",
       "2                 NaN                  NaN                           NaN  \n",
       "3                 NaN                  NaN                           NaN  \n",
       "4                 NaN                  NaN                           NaN  \n",
       "5                 NaN                  NaN                           NaN  "
      ]
     },
     "execution_count": 164,
     "metadata": {},
     "output_type": "execute_result"
    }
   ],
   "source": [
    "index_list = range(1,BL_cnt+1)\n",
    "df = pd.DataFrame(index= index_list, columns= cols)\n",
    "\n",
    "df"
   ]
  },
  {
   "cell_type": "code",
   "execution_count": 189,
   "id": "00dcd94d",
   "metadata": {},
   "outputs": [
    {
     "name": "stdout",
     "output_type": "stream",
     "text": [
      "                                       SHIPPER NAME:  \\\n",
      "1  INTERNATIONAL EGY KOREA CO.,LTD._AHAMAD ABD AL...   \n",
      "2                                                NaN   \n",
      "3                                                NaN   \n",
      "4                                                NaN   \n",
      "5                                                NaN   \n",
      "\n",
      "                            CONSIGNEE NAME   MODEL    YR           CHASSINO  \\\n",
      "1                 SABHA MOHAMED ALI HASSAN  AVANTE  2015  KMHDG41DBFU305360   \n",
      "2  WALEED ABD ELHAMIED ABD ELGHANY YOUSSEF  TUCSON  2017  KMHJ3812GHU324867   \n",
      "3       ASMAA HASSAN ELSAYED TOUHAMY AHMED  AVANTE  2010  KMHDU41BBAU097310   \n",
      "4           MOHAMED NASSER MOUSTAFA AAFIFY  AVANTE  2016  KMHD741DBGU027762   \n",
      "5      NADA AHMED ABOU ELHADIED ELHALAFAWY  AVANTE  2009  KMHDU41BP9U777527   \n",
      "\n",
      "               ACID NO IMPORTER TAX NUMBER FREIGHT FORWARDER ID  \\\n",
      "1  9992022060000019361           999999999            940426854   \n",
      "2  9992022060000019387           999999999            940426854   \n",
      "3  9992022060000019395           999999999            940426854   \n",
      "4  9992022060000068061           999999999            940426854   \n",
      "5  9992022060000068186           999999999            940426854   \n",
      "\n",
      "  EXPORTER REGISTRATION COUNTRY  \n",
      "1                            KR  \n",
      "2                            KR  \n",
      "3                            KR  \n",
      "4                            KR  \n",
      "5                            KR  \n"
     ]
    }
   ],
   "source": [
    "for mail_dict in mail_dicts:\n",
    "    for cnt in mail_dict:\n",
    "        mail_key = list(mail_dict[cnt].keys())\n",
    "        if 'SHIPPER' in mail_key[0]:\n",
    "            ship_info = mail_dict[cnt].get(mail_key[0])\n",
    "            ship_info = '_'.join(ship_info)\n",
    "            df.loc[cnt,mail_key[0]] = ship_info\n",
    "        else:\n",
    "            temp_df = pd.DataFrame(mail_dict[cnt], index = [cnt])\n",
    "        df.update(temp_df)\n",
    "# print(df)\n"
   ]
  },
  {
   "cell_type": "code",
   "execution_count": 92,
   "id": "2f2a23f6",
   "metadata": {},
   "outputs": [],
   "source": []
  },
  {
   "cell_type": "code",
   "execution_count": null,
   "id": "b5dd7197",
   "metadata": {},
   "outputs": [],
   "source": []
  }
 ],
 "metadata": {
  "kernelspec": {
   "display_name": "Python 3 (ipykernel)",
   "language": "python",
   "name": "python3"
  },
  "language_info": {
   "codemirror_mode": {
    "name": "ipython",
    "version": 3
   },
   "file_extension": ".py",
   "mimetype": "text/x-python",
   "name": "python",
   "nbconvert_exporter": "python",
   "pygments_lexer": "ipython3",
   "version": "3.8.8"
  }
 },
 "nbformat": 4,
 "nbformat_minor": 5
}
