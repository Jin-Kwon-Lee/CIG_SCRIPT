{
 "cells": [
  {
   "cell_type": "code",
   "execution_count": 346,
   "id": "3b67e25a",
   "metadata": {},
   "outputs": [
    {
     "name": "stdout",
     "output_type": "stream",
     "text": [
      "The autoreload extension is already loaded. To reload it, use:\n",
      "  %reload_ext autoreload\n"
     ]
    },
    {
     "name": "stderr",
     "output_type": "stream",
     "text": [
      "[autoreload of cig_script.mail_copy_input_format failed: Traceback (most recent call last):\n",
      "  File \"c:\\users\\user\\appdata\\local\\programs\\python\\python38\\lib\\site-packages\\IPython\\extensions\\autoreload.py\", line 257, in check\n",
      "    superreload(m, reload, self.old_objects)\n",
      "  File \"c:\\users\\user\\appdata\\local\\programs\\python\\python38\\lib\\site-packages\\IPython\\extensions\\autoreload.py\", line 455, in superreload\n",
      "    module = reload(module)\n",
      "  File \"c:\\users\\user\\appdata\\local\\programs\\python\\python38\\lib\\importlib\\__init__.py\", line 169, in reload\n",
      "    _bootstrap._exec(spec, module)\n",
      "  File \"<frozen importlib._bootstrap>\", line 604, in _exec\n",
      "  File \"<frozen importlib._bootstrap_external>\", line 783, in exec_module\n",
      "  File \"<frozen importlib._bootstrap>\", line 219, in _call_with_frames_removed\n",
      "  File \"C:\\Users\\USER\\Desktop\\CIG\\cig_script\\mail_copy_input_format.py\", line 4, in <module>\n",
      "    from config.config_env import Config\n",
      "ModuleNotFoundError: No module named 'config'\n",
      "]\n"
     ]
    }
   ],
   "source": [
    "%load_ext autoreload\n",
    "%autoreload 2"
   ]
  },
  {
   "cell_type": "code",
   "execution_count": 347,
   "id": "6452c3a5",
   "metadata": {},
   "outputs": [],
   "source": [
    "import os\n",
    "import pandas as pd\n",
    "import numpy as np\n",
    "import sys\n",
    "import re\n",
    "import sys\n",
    "import json\n",
    "module_path = os.path.abspath(os.path.join('..'))\n",
    "if module_path not in sys.path:\n",
    "    sys.path.append(module_path)\n",
    "\n",
    "pd.set_option('display.max_columns', 50)"
   ]
  },
  {
   "cell_type": "code",
   "execution_count": 348,
   "id": "b7106f30",
   "metadata": {},
   "outputs": [],
   "source": [
    "from cig_script.config.config_env import Config\n",
    "from cig_script.mail_copy_input_format import _get_mul_car_mail_in_format\n",
    "from cig_script.mail_copy_input_format import _remove_NBSP_df\n",
    "from cig_script.mail_copy_input_format import _reset_index\n",
    "from cig_script.mail_copy_input_format import _get_dict_description_info\n",
    "from cig_script.mail_copy_input_format import _get_mul_car_info_df\n",
    "from cig_script.mail_copy_input_format import _merge_df_description_info\n",
    "\n",
    "\n",
    "\n"
   ]
  },
  {
   "cell_type": "code",
   "execution_count": 349,
   "id": "f8140899",
   "metadata": {},
   "outputs": [],
   "source": [
    "mail_copy_in_path = Config().mail_copy_in_path\n",
    "df = _get_mul_car_mail_in_format(mail_copy_in_path)\n",
    "df = _remove_NBSP_df(df)\n",
    "df[0].head(13)\n",
    "temp_df = df.loc[:,[0]]\n",
    "temp_df = temp_df.dropna()\n",
    "temp_df = _reset_index(temp_df)\n"
   ]
  },
  {
   "cell_type": "code",
   "execution_count": 350,
   "id": "679aaccd",
   "metadata": {},
   "outputs": [],
   "source": [
    "def _get_df_mul_car_info(con_df,cate,val,cnt):\n",
    "    dic = {}\n",
    "    dic.update({cate:{cnt:val}})\n",
    "    df = pd.DataFrame.from_dict(data=dic)\n",
    "    \n",
    "    con_df = pd.concat([con_df,df])\n",
    "    return con_df"
   ]
  },
  {
   "cell_type": "code",
   "execution_count": 351,
   "id": "9120131e",
   "metadata": {},
   "outputs": [
    {
     "data": {
      "text/html": [
       "<div>\n",
       "<style scoped>\n",
       "    .dataframe tbody tr th:only-of-type {\n",
       "        vertical-align: middle;\n",
       "    }\n",
       "\n",
       "    .dataframe tbody tr th {\n",
       "        vertical-align: top;\n",
       "    }\n",
       "\n",
       "    .dataframe thead th {\n",
       "        text-align: right;\n",
       "    }\n",
       "</style>\n",
       "<table border=\"1\" class=\"dataframe\">\n",
       "  <thead>\n",
       "    <tr style=\"text-align: right;\">\n",
       "      <th></th>\n",
       "      <th>CONSIGNEE NAME:</th>\n",
       "      <th>ACID NO</th>\n",
       "      <th>EGYPTIAN IMPORTER VAT NUMBER</th>\n",
       "      <th>FOREIGN EXPORTER REGISTRATION NUMBER</th>\n",
       "      <th>MODEL</th>\n",
       "      <th>YR</th>\n",
       "      <th>CHASSINO</th>\n",
       "    </tr>\n",
       "    <tr>\n",
       "      <th>index</th>\n",
       "      <th></th>\n",
       "      <th></th>\n",
       "      <th></th>\n",
       "      <th></th>\n",
       "      <th></th>\n",
       "      <th></th>\n",
       "      <th></th>\n",
       "    </tr>\n",
       "  </thead>\n",
       "  <tbody>\n",
       "    <tr>\n",
       "      <th>1</th>\n",
       "      <td>MIDDLE EAST TRADING CENTER ( ELRAWAS)</td>\n",
       "      <td>2049059822022070346</td>\n",
       "      <td>204905982</td>\n",
       "      <td>6348801265</td>\n",
       "      <td>{\"1\": \"AVANTE\", \"2\": \"AVANTE\", \"3\": \"AVANTE\", ...</td>\n",
       "      <td>{\"1\": 2011.0, \"2\": 2011.0, \"3\": 2011.0, \"4\": 2...</td>\n",
       "      <td>{\"1\": \"KMHDH41DBBU044101\", \"2\": \"KMHDH41DBBU06...</td>\n",
       "    </tr>\n",
       "    <tr>\n",
       "      <th>2</th>\n",
       "      <td>TRANS WORLD TRADING CO. ( ELROTOB BROTHERS)</td>\n",
       "      <td>2049062532022080021</td>\n",
       "      <td>204906253</td>\n",
       "      <td>6348801265</td>\n",
       "      <td>{\"1\": \"AVANTE\", \"2\": \"AVANTE\", \"3\": \"AVANTE\", ...</td>\n",
       "      <td>{\"1\": 2012.0, \"2\": 2011.0, \"3\": 2007.0, \"4\": 2...</td>\n",
       "      <td>{\"1\": \"KMHDG41DBCU498818\", \"2\": \"KMHDH41DBBU03...</td>\n",
       "    </tr>\n",
       "  </tbody>\n",
       "</table>\n",
       "</div>"
      ],
      "text/plain": [
       "                                   CONSIGNEE NAME:               ACID NO  \\\n",
       "index                                                                      \n",
       "1            MIDDLE EAST TRADING CENTER ( ELRAWAS)   2049059822022070346   \n",
       "2      TRANS WORLD TRADING CO. ( ELROTOB BROTHERS)   2049062532022080021   \n",
       "\n",
       "      EGYPTIAN IMPORTER VAT NUMBER  FOREIGN EXPORTER REGISTRATION NUMBER  \\\n",
       "index                                                                      \n",
       "1                         204905982                           6348801265   \n",
       "2                         204906253                           6348801265   \n",
       "\n",
       "                                                   MODEL  \\\n",
       "index                                                      \n",
       "1      {\"1\": \"AVANTE\", \"2\": \"AVANTE\", \"3\": \"AVANTE\", ...   \n",
       "2      {\"1\": \"AVANTE\", \"2\": \"AVANTE\", \"3\": \"AVANTE\", ...   \n",
       "\n",
       "                                                      YR  \\\n",
       "index                                                      \n",
       "1      {\"1\": 2011.0, \"2\": 2011.0, \"3\": 2011.0, \"4\": 2...   \n",
       "2      {\"1\": 2012.0, \"2\": 2011.0, \"3\": 2007.0, \"4\": 2...   \n",
       "\n",
       "                                                CHASSINO  \n",
       "index                                                     \n",
       "1      {\"1\": \"KMHDH41DBBU044101\", \"2\": \"KMHDH41DBBU06...  \n",
       "2      {\"1\": \"KMHDG41DBCU498818\", \"2\": \"KMHDH41DBBU03...  "
      ]
     },
     "execution_count": 351,
     "metadata": {},
     "output_type": "execute_result"
    }
   ],
   "source": [
    "con_dict = {}\n",
    "BL_cnt = 0\n",
    "con_name_list = []\n",
    "con_df = pd.DataFrame()\n",
    "acid_df = pd.DataFrame()\n",
    "import_tax_df = pd.DataFrame()\n",
    "export_num_df = pd.DataFrame()\n",
    "\n",
    "for idx,col in temp_df.iterrows():\n",
    "    col = col.str.upper()\n",
    "    val = col[0]\n",
    "    \n",
    "    if 'CONSIGNEE' in val:\n",
    "        BL_cnt = BL_cnt + 1\n",
    "        if idx >= 1:\n",
    "            consign_idx = idx + 1\n",
    "            cate = val\n",
    "            con_name = temp_df.loc[consign_idx,:][0]\n",
    "            con_df = _get_df_mul_car_info(con_df,cate,con_name,BL_cnt)\n",
    "            \n",
    "    elif 'ACID' in val:\n",
    "            acid_no_list = val.split(':')\n",
    "            cate = acid_no_list[0]\n",
    "            acid_no = acid_no_list[1]\n",
    "            acid_df = _get_df_mul_car_info(acid_df,cate,acid_no,BL_cnt)\n",
    "    \n",
    "    elif 'IMPORTER VAT NUMBER' in val or 'IMPORTER TAX NUMBER' in val:\n",
    "            import_tax_list = val.split(':')\n",
    "            cate = import_tax_list[0]\n",
    "            import_tax = import_tax_list[1]\n",
    "            import_tax_df = _get_df_mul_car_info(import_tax_df,cate,import_tax,BL_cnt)\n",
    "    \n",
    "    elif 'EXPORTER REGISTRATION NUMBER' in val:\n",
    "            export_num_list = val.split(':')\n",
    "            cate = export_num_list[0]\n",
    "            export_num = export_num_list[1]\n",
    "            export_num_df = _get_df_mul_car_info(export_num_df,cate,export_num,BL_cnt)\n",
    "\n",
    "car_info_df = _get_mul_car_info_df(df)\n",
    "total_df = _merge_df_description_info(con_df,acid_df,import_tax_df,export_num_df,car_info_df)\n",
    "\n",
    "total_df"
   ]
  },
  {
   "cell_type": "code",
   "execution_count": null,
   "id": "eaca8487",
   "metadata": {},
   "outputs": [],
   "source": []
  },
  {
   "cell_type": "code",
   "execution_count": null,
   "id": "9e60e331",
   "metadata": {},
   "outputs": [],
   "source": []
  }
 ],
 "metadata": {
  "kernelspec": {
   "display_name": "Python 3 (ipykernel)",
   "language": "python",
   "name": "python3"
  },
  "language_info": {
   "codemirror_mode": {
    "name": "ipython",
    "version": 3
   },
   "file_extension": ".py",
   "mimetype": "text/x-python",
   "name": "python",
   "nbconvert_exporter": "python",
   "pygments_lexer": "ipython3",
   "version": "3.8.8"
  }
 },
 "nbformat": 4,
 "nbformat_minor": 5
}
