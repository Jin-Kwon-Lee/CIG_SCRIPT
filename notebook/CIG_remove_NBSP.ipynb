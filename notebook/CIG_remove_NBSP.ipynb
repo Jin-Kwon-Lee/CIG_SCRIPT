{
 "cells": [
  {
   "cell_type": "code",
   "execution_count": 7,
   "id": "3b67e25a",
   "metadata": {},
   "outputs": [
    {
     "name": "stdout",
     "output_type": "stream",
     "text": [
      "The autoreload extension is already loaded. To reload it, use:\n",
      "  %reload_ext autoreload\n"
     ]
    }
   ],
   "source": [
    "%load_ext autoreload\n",
    "%autoreload 2"
   ]
  },
  {
   "cell_type": "code",
   "execution_count": 8,
   "id": "6452c3a5",
   "metadata": {},
   "outputs": [],
   "source": [
    "import os\n",
    "import pandas as pd\n",
    "import numpy as np\n",
    "import sys\n",
    "\n",
    "import sys\n",
    "module_path = os.path.abspath(os.path.join('..'))\n",
    "if module_path not in sys.path:\n",
    "    sys.path.append(module_path)\n",
    "\n",
    "# pd.set_option('display.max_row', 50)"
   ]
  },
  {
   "cell_type": "code",
   "execution_count": 25,
   "id": "b7106f30",
   "metadata": {},
   "outputs": [],
   "source": [
    "# from cig_script.config_env import Config\n",
    "from cig_script.mail_copy_input_format import _get_mail_in_format\n",
    "from cig_script.mail_copy_input_format import _get_shipper_info\n",
    "from cig_script.mail_copy_input_format import _get_consignee_info\n",
    "from cig_script.mail_copy_input_format import _get_column_from_dict\n",
    "from cig_script.config.config_env import Config"
   ]
  },
  {
   "cell_type": "code",
   "execution_count": 39,
   "id": "149250cf",
   "metadata": {
    "scrolled": true
   },
   "outputs": [
    {
     "data": {
      "text/html": [
       "<div>\n",
       "<style scoped>\n",
       "    .dataframe tbody tr th:only-of-type {\n",
       "        vertical-align: middle;\n",
       "    }\n",
       "\n",
       "    .dataframe tbody tr th {\n",
       "        vertical-align: top;\n",
       "    }\n",
       "\n",
       "    .dataframe thead th {\n",
       "        text-align: right;\n",
       "    }\n",
       "</style>\n",
       "<table border=\"1\" class=\"dataframe\">\n",
       "  <thead>\n",
       "    <tr style=\"text-align: right;\">\n",
       "      <th></th>\n",
       "      <th>Unnamed: 0</th>\n",
       "    </tr>\n",
       "  </thead>\n",
       "  <tbody>\n",
       "    <tr>\n",
       "      <th>0</th>\n",
       "      <td>AVANTE 2007 KMHDU41BP7U242468</td>\n",
       "    </tr>\n",
       "    <tr>\n",
       "      <th>1</th>\n",
       "      <td>CONSIGNEE NAME: SAMIAH MAHMOUD AHMED MAHMOUD</td>\n",
       "    </tr>\n",
       "    <tr>\n",
       "      <th>2</th>\n",
       "      <td>BUILDING NAME: BLOCK30 – MASAKEN ELAMERIA ELGA...</td>\n",
       "    </tr>\n",
       "    <tr>\n",
       "      <th>3</th>\n",
       "      <td>STREET: ELAMERIAH</td>\n",
       "    </tr>\n",
       "    <tr>\n",
       "      <th>4</th>\n",
       "      <td>CITY: CAIRO</td>\n",
       "    </tr>\n",
       "    <tr>\n",
       "      <th>...</th>\n",
       "      <td>...</td>\n",
       "    </tr>\n",
       "    <tr>\n",
       "      <th>2515</th>\n",
       "      <td>FORTE 2009 KNAFH22139A004895</td>\n",
       "    </tr>\n",
       "    <tr>\n",
       "      <th>2516</th>\n",
       "      <td>K3 2013 KNAFX412BDA028429</td>\n",
       "    </tr>\n",
       "    <tr>\n",
       "      <th>2517</th>\n",
       "      <td>AVANTE 2011 KMHDH41DBBU056522</td>\n",
       "    </tr>\n",
       "    <tr>\n",
       "      <th>2518</th>\n",
       "      <td>MORNING 2012 KNABX511BCT014032</td>\n",
       "    </tr>\n",
       "    <tr>\n",
       "      <th>2519</th>\n",
       "      <td>AVANTE 2012 KMHDH41DBCU178482</td>\n",
       "    </tr>\n",
       "  </tbody>\n",
       "</table>\n",
       "<p>2520 rows × 1 columns</p>\n",
       "</div>"
      ],
      "text/plain": [
       "                                             Unnamed: 0\n",
       "0                         AVANTE 2007 KMHDU41BP7U242468\n",
       "1         CONSIGNEE NAME: SAMIAH MAHMOUD AHMED MAHMOUD \n",
       "2     BUILDING NAME: BLOCK30 – MASAKEN ELAMERIA ELGA...\n",
       "3                                     STREET: ELAMERIAH\n",
       "4                                           CITY: CAIRO\n",
       "...                                                 ...\n",
       "2515                       FORTE 2009 KNAFH22139A004895\n",
       "2516                          K3 2013 KNAFX412BDA028429\n",
       "2517                      AVANTE 2011 KMHDH41DBBU056522\n",
       "2518                     MORNING 2012 KNABX511BCT014032\n",
       "2519                      AVANTE 2012 KMHDH41DBCU178482\n",
       "\n",
       "[2520 rows x 1 columns]"
      ]
     },
     "execution_count": 39,
     "metadata": {},
     "output_type": "execute_result"
    }
   ],
   "source": [
    "df = _get_mail_in_format(Config().mail_copy_in_path)\n",
    "df"
   ]
  },
  {
   "cell_type": "code",
   "execution_count": 43,
   "id": "2f2a23f6",
   "metadata": {},
   "outputs": [
    {
     "data": {
      "text/plain": [
       "'Unnamed: 0'"
      ]
     },
     "execution_count": 43,
     "metadata": {},
     "output_type": "execute_result"
    }
   ],
   "source": [
    "for col in df:\n",
    "    col\n",
    "col"
   ]
  },
  {
   "cell_type": "code",
   "execution_count": null,
   "id": "b5dd7197",
   "metadata": {},
   "outputs": [],
   "source": []
  }
 ],
 "metadata": {
  "kernelspec": {
   "display_name": "Python 3 (ipykernel)",
   "language": "python",
   "name": "python3"
  },
  "language_info": {
   "codemirror_mode": {
    "name": "ipython",
    "version": 3
   },
   "file_extension": ".py",
   "mimetype": "text/x-python",
   "name": "python",
   "nbconvert_exporter": "python",
   "pygments_lexer": "ipython3",
   "version": "3.8.8"
  }
 },
 "nbformat": 4,
 "nbformat_minor": 5
}
