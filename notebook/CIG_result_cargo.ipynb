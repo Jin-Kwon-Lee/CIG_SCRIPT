{
 "cells": [
  {
   "cell_type": "code",
   "execution_count": 82,
   "id": "3b67e25a",
   "metadata": {},
   "outputs": [
    {
     "name": "stdout",
     "output_type": "stream",
     "text": [
      "The autoreload extension is already loaded. To reload it, use:\n",
      "  %reload_ext autoreload\n"
     ]
    }
   ],
   "source": [
    "%load_ext autoreload\n",
    "%autoreload 2"
   ]
  },
  {
   "cell_type": "code",
   "execution_count": 2,
   "id": "6452c3a5",
   "metadata": {},
   "outputs": [],
   "source": [
    "import os\n",
    "import pandas as pd\n",
    "import numpy as np\n",
    "import sys\n",
    "import re\n",
    "import sys\n",
    "import json\n",
    "module_path = os.path.abspath(os.path.join('..'))\n",
    "if module_path not in sys.path:\n",
    "    sys.path.append(module_path)\n",
    "\n",
    "pd.set_option('display.max_columns', 50)"
   ]
  },
  {
   "cell_type": "code",
   "execution_count": 3,
   "id": "b7106f30",
   "metadata": {},
   "outputs": [],
   "source": [
    "from cig_script.config.config_env import Config\n"
   ]
  },
  {
   "cell_type": "code",
   "execution_count": 32,
   "id": "149250cf",
   "metadata": {
    "scrolled": true
   },
   "outputs": [
    {
     "data": {
      "text/plain": [
       "int"
      ]
     },
     "execution_count": 32,
     "metadata": {},
     "output_type": "execute_result"
    }
   ],
   "source": [
    "cargo_path = Config().cargo_path\n",
    "df = pd.read_excel(cargo_path,header= None)\n",
    "zero_col_df = df.copy().dropna(subset=[0])\n",
    "zero_col_df = zero_col_df[zero_col_df[0].str.contains('INPS')]\n",
    "m_bl_idx_list = list(zero_col_df.index)\n",
    "\n",
    "x = m_bl_idx_list[0]\n",
    "col_num_list = list(df.loc[x+1,:].dropna().index)\n",
    "cha_col_list = list(df.loc[x+2,:].dropna().index)\n",
    "type(col_num_list[4])\n",
    "# cha_col_list"
   ]
  },
  {
   "cell_type": "code",
   "execution_count": null,
   "id": "f8140899",
   "metadata": {},
   "outputs": [],
   "source": []
  },
  {
   "cell_type": "code",
   "execution_count": null,
   "id": "9120131e",
   "metadata": {},
   "outputs": [],
   "source": []
  }
 ],
 "metadata": {
  "kernelspec": {
   "display_name": "Python 3 (ipykernel)",
   "language": "python",
   "name": "python3"
  },
  "language_info": {
   "codemirror_mode": {
    "name": "ipython",
    "version": 3
   },
   "file_extension": ".py",
   "mimetype": "text/x-python",
   "name": "python",
   "nbconvert_exporter": "python",
   "pygments_lexer": "ipython3",
   "version": "3.8.8"
  }
 },
 "nbformat": 4,
 "nbformat_minor": 5
}
