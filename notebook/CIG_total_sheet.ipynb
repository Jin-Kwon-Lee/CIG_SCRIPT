{
 "cells": [
  {
   "cell_type": "code",
   "execution_count": 571,
   "id": "3b67e25a",
   "metadata": {},
   "outputs": [
    {
     "name": "stdout",
     "output_type": "stream",
     "text": [
      "The autoreload extension is already loaded. To reload it, use:\n",
      "  %reload_ext autoreload\n"
     ]
    }
   ],
   "source": [
    "%load_ext autoreload\n",
    "%autoreload 2"
   ]
  },
  {
   "cell_type": "code",
   "execution_count": 778,
   "id": "6452c3a5",
   "metadata": {},
   "outputs": [],
   "source": [
    "import os\n",
    "import os.path\n",
    "import pandas as pd\n",
    "import numpy as np\n",
    "import sys\n",
    "import re\n",
    "import sys\n",
    "import json\n",
    "\n",
    "module_path = os.path.abspath(os.path.join('..'))\n",
    "if module_path not in sys.path:\n",
    "    sys.path.append(module_path)\n",
    "\n",
    "pd.set_option('display.max_columns', 50)"
   ]
  },
  {
   "cell_type": "code",
   "execution_count": 779,
   "id": "b7106f30",
   "metadata": {},
   "outputs": [],
   "source": [
    "from cig_script.config.config_env import Config\n",
    "\n",
    "from cig_script.mail_copy_input_format import _get_mul_car_one_bl\n",
    "from cig_script.mail_copy_input_format import _get_one_car_one_bl\n",
    "from cig_script.mail_copy_input_format import _autowidth_excel\n",
    "from datetime import datetime\n",
    "\n",
    "\n",
    "\n"
   ]
  },
  {
   "cell_type": "code",
   "execution_count": 780,
   "id": "f8140899",
   "metadata": {},
   "outputs": [],
   "source": [
    "mail_copy_in_path = Config().mail_copy_in_path\n",
    "one_car_one_bl_df = _get_one_car_one_bl(mail_copy_in_path)\n",
    "mul_car_one_bl_df = _get_mul_car_one_bl(mail_copy_in_path)\n"
   ]
  },
  {
   "cell_type": "code",
   "execution_count": 781,
   "id": "eaca8487",
   "metadata": {},
   "outputs": [
    {
     "name": "stdout",
     "output_type": "stream",
     "text": [
      "1 : Y(Yes) or  0: N(No) : 1\n"
     ]
    }
   ],
   "source": [
    "total_option = input('1 : Y(Yes) or  0: N(No) : ')"
   ]
  },
  {
   "cell_type": "code",
   "execution_count": 782,
   "id": "9e60e331",
   "metadata": {},
   "outputs": [
    {
     "data": {
      "text/plain": [
       "'1'"
      ]
     },
     "execution_count": 782,
     "metadata": {},
     "output_type": "execute_result"
    }
   ],
   "source": [
    "total_option = total_option.upper()\n",
    "total_option"
   ]
  },
  {
   "cell_type": "code",
   "execution_count": 783,
   "id": "8babac0f",
   "metadata": {},
   "outputs": [],
   "source": [
    "def _total_excel_update(one_car_df,mul_car_df,mail_copy_in_path):\n",
    "    now = datetime.now()\n",
    "    gen_time = now.strftime('%Y-%m-%d %H:%M')\n",
    "    \n",
    "    tot_excel_from_mail = Config().tot_excel_from_mail\n",
    "    tot_one_car_sheet = Config().total_one_car_sheet_name\n",
    "    tot_mul_car_sheet = Config().total_mul_car_sheet_name\n",
    "    \n",
    "    one_car_df['gen_time'] = gen_time\n",
    "    mul_car_df['gen_time'] = gen_time\n",
    "    \n",
    "\n",
    "    if os.path.isfile(tot_excel_from_mail):\n",
    "        tot_one_car_df = pd.read_excel(tot_excel_from_mail,sheet_name=tot_one_car_sheet)\n",
    "        tot_mul_car_df = pd.read_excel(tot_excel_from_mail,sheet_name=tot_mul_car_sheet)\n",
    "        \n",
    "        _is_include_one_car,exist_dup_one_car,sub_one_car_df = _check_include_df(one_car_df,tot_one_car_df,gen_time)\n",
    "        _is_include_mul_car,exist_dup_mul_car,sub_mul_car_df = _check_include_df(mul_car_df,tot_mul_car_df,gen_time)\n",
    "        \n",
    "        if _is_include_one_car and _is_include_mul_car:\n",
    "            pass\n",
    "            # both already included.\n",
    "        elif _is_include_mul_car:\n",
    "            # multi car already included, one car should be updated\n",
    "            if exist_dup_one_car:\n",
    "                tot_one_car_df = pd.concat([tot_one_car_df,sub_one_car_df]).set_index('YR').reset_index()\n",
    "            else:\n",
    "                tot_one_car_df = pd.concat([tot_one_car_df,one_car_df]).set_index('YR').reset_index()\n",
    "            \n",
    "            tot_one_car_df = tot_one_car_df.astype(str)\n",
    "            tot_mul_car_df = tot_mul_car_df.astype(str)\n",
    "            \n",
    "            with pd.ExcelWriter(tot_excel_from_mail,engine='xlsxwriter') as writer:\n",
    "                tot_one_car_df.to_excel(writer,tot_one_car_sheet,index=False)\n",
    "                _autowidth_excel(writer,tot_one_car_sheet,tot_one_car_df)\n",
    "                tot_mul_car_df.to_excel(writer,tot_mul_car_sheet,index=False)\n",
    "                _autowidth_excel(writer,tot_mul_car_sheet,tot_mul_car_df)\n",
    "                \n",
    "        elif _is_include_one_car:\n",
    "            # one car already included, multi car should be updated\n",
    "            if exist_dup_mul_car:\n",
    "                tot_mul_car_df = pd.concat([tot_mul_car_df,sub_mul_car_df]).set_index('YR').reset_index()\n",
    "            else:\n",
    "                tot_mul_car_df = pd.concat([tot_mul_car_df,mul_car_df]).set_index('YR').reset_index()\n",
    "            \n",
    "            tot_one_car_df = tot_one_car_df.astype(str)\n",
    "            tot_mul_car_df = tot_mul_car_df.astype(str)\n",
    "            \n",
    "            with pd.ExcelWriter(tot_excel_from_mail,engine='xlsxwriter') as writer:\n",
    "                tot_one_car_df.to_excel(writer,tot_one_car_sheet,index=False)\n",
    "                _autowidth_excel(writer,tot_one_car_sheet,tot_one_car_df)\n",
    "                tot_mul_car_df.to_excel(writer,tot_mul_car_sheet,index=False)\n",
    "                _autowidth_excel(writer,tot_mul_car_sheet,tot_mul_car_df)\n",
    "            \n",
    "        else:\n",
    "            if exist_dup_one_car and exist_dup_mul_car:\n",
    "                tot_one_car_df = pd.concat([tot_one_car_df,sub_one_car_df]).set_index('YR').reset_index()\n",
    "                tot_mul_car_df = pd.concat([tot_mul_car_df,sub_mul_car_df]).set_index('YR').reset_index()\n",
    "            elif exist_dup_one_car:\n",
    "                tot_one_car_df = pd.concat([tot_one_car_df,sub_one_car_df]).set_index('YR').reset_index()\n",
    "                tot_mul_car_df = pd.concat([tot_mul_car_df,mul_car_df]).set_index('YR').reset_index()\n",
    "            elif exist_dup_mul_car:\n",
    "                tot_one_car_df = pd.concat([tot_one_car_df,one_car_df]).set_index('YR').reset_index()\n",
    "                tot_mul_car_df = pd.concat([tot_mul_car_df,sub_mul_car_df]).set_index('YR').reset_index()\n",
    "            else:\n",
    "                tot_one_car_df = pd.concat([tot_one_car_df,one_car_df]).set_index('YR').reset_index()\n",
    "                tot_mul_car_df = pd.concat([tot_mul_car_df,mul_car_df]).set_index('YR').reset_index()\n",
    "            \n",
    "            tot_one_car_df = tot_one_car_df.astype(str)\n",
    "            tot_mul_car_df = tot_mul_car_df.astype(str)\n",
    "            \n",
    "            with pd.ExcelWriter(tot_excel_from_mail,engine='xlsxwriter') as writer:\n",
    "                tot_one_car_df.to_excel(writer,tot_one_car_sheet,index=False)\n",
    "                _autowidth_excel(writer,tot_one_car_sheet,tot_one_car_df)\n",
    "                tot_mul_car_df.to_excel(writer,tot_mul_car_sheet,index=False)\n",
    "                _autowidth_excel(writer,tot_mul_car_sheet,tot_mul_car_df)\n",
    "        \n",
    "    else:\n",
    "        with pd.ExcelWriter(tot_excel_from_mail,engine='xlsxwriter') as writer:\n",
    "            \n",
    "            one_car_df.to_excel(writer,tot_one_car_sheet,index=False)\n",
    "            _autowidth_excel(writer,tot_one_car_sheet,one_car_df)\n",
    "\n",
    "            mul_car_df.to_excel(writer,tot_mul_car_sheet,index=False)\n",
    "            _autowidth_excel(writer,tot_mul_car_sheet,mul_car_df)\n",
    "    "
   ]
  },
  {
   "cell_type": "code",
   "execution_count": 784,
   "id": "caccaf29",
   "metadata": {},
   "outputs": [],
   "source": [
    "def _check_include_df(cur_df,tot_df,gen_time):\n",
    "    exist_dup = False\n",
    "    \n",
    "    cur_df = cur_df.set_index('YR').reset_index()\n",
    "    cur_df = cur_df.copy().drop(columns=['gen_time'])\n",
    "    tot_df = tot_df.copy().drop(columns=['gen_time'])\n",
    "    \n",
    "    cols = list(cur_df.columns)\n",
    "2\n",
    "    cur_df = cur_df.astype(str)\n",
    "    tot_df = tot_df.astype(str)\n",
    "\n",
    "    common_df = pd.merge(cur_df,tot_df, on=cols)\n",
    "    is_include = cur_df.equals(common_df)  \n",
    "    \n",
    "    cur_idx_set = set(cur_df.index)\n",
    "    common_idx_set = set(common_df.index)\n",
    "    sub_idx_list = list(cur_idx_set - common_idx_set)\n",
    "    \n",
    "    sub_df = cur_df.copy().iloc[sub_idx_list,:]\n",
    "    sub_df['gen_time'] = gen_time\n",
    "    \n",
    "    if is_include:\n",
    "        pass\n",
    "    else:\n",
    "        if len(cur_df) != len(common_df):\n",
    "            exist_dup = True\n",
    "        else:\n",
    "            exist_dup = False\n",
    "    \n",
    "    return is_include,exist_dup,sub_df"
   ]
  },
  {
   "cell_type": "code",
   "execution_count": 785,
   "id": "356cf170",
   "metadata": {},
   "outputs": [],
   "source": [
    "if total_option in ['1', 'Y','YES']:\n",
    "    _total_excel_update(one_car_one_bl_df,mul_car_one_bl_df,mail_copy_in_path)\n",
    "else:\n",
    "    print('nokay')"
   ]
  },
  {
   "cell_type": "code",
   "execution_count": null,
   "id": "71638cbb",
   "metadata": {},
   "outputs": [],
   "source": []
  },
  {
   "cell_type": "code",
   "execution_count": null,
   "id": "98bfaa28",
   "metadata": {},
   "outputs": [],
   "source": []
  }
 ],
 "metadata": {
  "kernelspec": {
   "display_name": "Python 3 (ipykernel)",
   "language": "python",
   "name": "python3"
  },
  "language_info": {
   "codemirror_mode": {
    "name": "ipython",
    "version": 3
   },
   "file_extension": ".py",
   "mimetype": "text/x-python",
   "name": "python",
   "nbconvert_exporter": "python",
   "pygments_lexer": "ipython3",
   "version": "3.8.8"
  }
 },
 "nbformat": 4,
 "nbformat_minor": 5
}
