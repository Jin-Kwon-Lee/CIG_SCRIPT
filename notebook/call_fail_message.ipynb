{
 "cells": [
  {
   "cell_type": "code",
   "execution_count": 207,
   "id": "3b67e25a",
   "metadata": {},
   "outputs": [
    {
     "name": "stdout",
     "output_type": "stream",
     "text": [
      "The autoreload extension is already loaded. To reload it, use:\n",
      "  %reload_ext autoreload\n"
     ]
    }
   ],
   "source": [
    "%load_ext autoreload\n",
    "%autoreload 2"
   ]
  },
  {
   "cell_type": "code",
   "execution_count": 518,
   "id": "6452c3a5",
   "metadata": {},
   "outputs": [],
   "source": [
    "import os\n",
    "import pandas as pd\n",
    "import numpy as np\n",
    "import sys\n",
    "\n",
    "from tkinter import *\n",
    "import warnings\n",
    "import tkinter as tk"
   ]
  },
  {
   "cell_type": "code",
   "execution_count": null,
   "id": "ae4e752f",
   "metadata": {},
   "outputs": [],
   "source": []
  },
  {
   "cell_type": "code",
   "execution_count": 519,
   "id": "5865cb79",
   "metadata": {},
   "outputs": [],
   "source": [
    "local_path = 'C:/Users/USER/Desktop/CIG/data/'"
   ]
  },
  {
   "cell_type": "code",
   "execution_count": 520,
   "id": "86a1abb7",
   "metadata": {},
   "outputs": [],
   "source": [
    "# Excel path, name, sheet, row,column configuration\n",
    "\n",
    "excel_date = '220723'\n",
    "in_xl_name = 'input_excel_data' # + excel_date\n",
    "out_xl_name = 'output_excel_raw_data'# + excel_date\n",
    "\n",
    "in_xl_path = local_path + in_xl_name + '.xlsx'\n",
    "sheet_name = '리스트'\n",
    "out_xl_path = local_path + out_xl_name + '.xls'"
   ]
  },
  {
   "cell_type": "code",
   "execution_count": 521,
   "id": "149250cf",
   "metadata": {},
   "outputs": [],
   "source": [
    "input_df = pd.read_excel(in_xl_path, sheet_name= sheet_name)"
   ]
  },
  {
   "cell_type": "code",
   "execution_count": 522,
   "id": "c3211ec4",
   "metadata": {},
   "outputs": [],
   "source": [
    "custom_col = ['H.BL NO',\n",
    "              'M.BL NO',\n",
    "              'SHIPPER',\n",
    "              'CNEE',\n",
    "              'ACID',\n",
    "              'MODEL',\n",
    "              'YR',\n",
    "              'CHASSINO.',\n",
    "              'WEIGHT',\n",
    "              'CBM']"
   ]
  },
  {
   "cell_type": "code",
   "execution_count": 523,
   "id": "7773382a",
   "metadata": {
    "scrolled": true
   },
   "outputs": [],
   "source": [
    "input_df = input_df[custom_col]"
   ]
  },
  {
   "cell_type": "code",
   "execution_count": 524,
   "id": "3fea96b3",
   "metadata": {},
   "outputs": [],
   "source": [
    "skip_row_nums =2 \n",
    "output_df = pd.read_excel(out_xl_path, skiprows=skip_row_nums)\n",
    "output_df = output_df.dropna(how='all')"
   ]
  },
  {
   "cell_type": "code",
   "execution_count": 525,
   "id": "2e58f57f",
   "metadata": {},
   "outputs": [],
   "source": [
    "h_bl_no_list = list(input_df['H.BL NO'].drop_duplicates())"
   ]
  },
  {
   "cell_type": "code",
   "execution_count": 526,
   "id": "c4b7f22f",
   "metadata": {},
   "outputs": [],
   "source": [
    "def _custom_round(number, n=1): # embedded python round func could cause rounding issue at point 5\n",
    "    n = n+2\n",
    "    pow_ten = pow(10, n)\n",
    "    \n",
    "    number = number * pow_ten\n",
    "    \n",
    "    if number % 10 > 4:\n",
    "        number += (10 - number % 10)\n",
    "    \n",
    "    number = number / pow_ten\n",
    "    return float(str(number)[:n+2]) "
   ]
  },
  {
   "cell_type": "code",
   "execution_count": 527,
   "id": "5e1458a2",
   "metadata": {},
   "outputs": [],
   "source": [
    "def _check_total_weight(in_df,out_df): # floating round : 1\n",
    "    f_num = 1\n",
    "    in_tot_weight = _custom_round(in_df['WEIGHT'].sum(),f_num)\n",
    "    out_tot_weight = _custom_round(out_df['G.W/T'].sum(),f_num)\n",
    "    return in_tot_weight,out_tot_weight\n",
    "\n",
    "def _check_total_CBM(in_df,out_df): # floating round : 3\n",
    "    f_num = 3\n",
    "    in_tot_CBM = _custom_round(in_df['CBM'].sum(),f_num)\n",
    "    out_tot_CBM = _custom_round(out_df['CBM'].sum(),f_num)\n",
    "    return in_tot_CBM,out_tot_CBM"
   ]
  },
  {
   "cell_type": "code",
   "execution_count": 528,
   "id": "fb36d0bb",
   "metadata": {},
   "outputs": [],
   "source": [
    "def _find_location(out_xl_df,hbl,out_data,category):\n",
    "    row_index = 4\n",
    "    if category == 'weight':\n",
    "        match_df = out_xl_df.copy().loc[((out_xl_df['HOUSE NO'] == hbl) & (out_xl_df['G.W/T'] == out_data)),:]\n",
    "    elif category == 'cbm':\n",
    "        match_df = out_xl_df.copy().loc[((out_xl_df['HOUSE NO'] == hbl) & (out_xl_df['CBM'] == out_data)),:]\n",
    "    fail_index = match_df.index\n",
    "    fail_row = list(row_index + fail_index)\n",
    "    \n",
    "    return fail_row"
   ]
  },
  {
   "cell_type": "code",
   "execution_count": 529,
   "id": "13f37329",
   "metadata": {},
   "outputs": [],
   "source": [
    "def _gen_error_win():\n",
    "    window = Tk()\n",
    "    window.title(\"Error Message!\")\n",
    "    return window"
   ]
  },
  {
   "cell_type": "code",
   "execution_count": 531,
   "id": "4aedb815",
   "metadata": {},
   "outputs": [],
   "source": [
    "from cig_script.config.config_env import Config\n",
    "\n",
    "def _out_total_weight_or_cbm_error_default_labeling(window):\n",
    "    #    Error message \n",
    "    lb_err_msg1 = Label(window, text=\"This error is caused if total weight or cbm mismatching in output file was found!\")\n",
    "\n",
    "    lb_err_msg1.place(x=10, y=10)\n",
    "    \n",
    "    lb_err_msg2 = Label(window, text=\"You should check below location of empty data in output file!\")\n",
    "    lb_err_msg2.place(x=10, y=30)\n",
    "    \n",
    "    #    Current working directory path\n",
    "    working_xl_path = Config().out_xl_path \n",
    "\n",
    "    lb_err_working_dir = Label(window, text=\"Working Directory Path : \")\n",
    "    lb_err_working_dir.place(x=10, y=70)\n",
    "    \n",
    "    ety_working_path = tk.Entry(fg=\"gray19\", bg=\"snow\", width=60)\n",
    "    ety_working_path.place(x=10,y=90)\n",
    "    ety_working_path.insert(0,working_xl_path)"
   ]
  },
  {
   "cell_type": "code",
   "execution_count": 603,
   "id": "4b3dc8a4",
   "metadata": {},
   "outputs": [],
   "source": [
    "def _call_error_message_window(window,*err_dict):\n",
    "    # label,entry location config\n",
    "    default_y_row = 90\n",
    "    lb_y_step_size = 30\n",
    "    lb_x_row = 10\n",
    "    ety_y_step_size = 60\n",
    "    ety_x_row = 10\n",
    "    \n",
    "    dict_num = len(err_dict)\n",
    "    for num in range(dict_num):\n",
    "        curr_err_dict = err_dict[num] \n",
    "        for err_cnt in curr_err_dict:\n",
    "            empty_rows,empty_col = curr_err_dict[err_cnt]\n",
    "\n",
    "            #    N th Error Row Location\n",
    "            lb_y_row = default_y_row + lb_y_step_size\n",
    "\n",
    "            lb_err_empty_row = Label(window, text= \"Error Row Location : \")\n",
    "            lb_err_empty_row.place(x=lb_x_row,y=lb_y_row)\n",
    "\n",
    "            ety_y_row = default_y_row + ety_y_step_size \n",
    "\n",
    "            ety_empty_row = tk.Entry(fg=\"gray19\", bg=\"snow\", width=30)\n",
    "            ety_empty_row.place(x=ety_x_row,y=ety_y_row)\n",
    "            ety_empty_row.insert(0,empty_rows)\n",
    "\n",
    "            #  N th  Error Column Location\n",
    "            lb_err_empty_col = Label(window, text= \"Error Column Location : \")\n",
    "            lb_err_empty_col.place(x=250, y=lb_y_row)\n",
    "            ety_empty_col = tk.Entry(fg=\"gray19\", bg=\"snow\", width=30)\n",
    "            ety_empty_col.place(x=250,y=ety_y_row)\n",
    "            ety_empty_col.insert(0,empty_col)\n",
    "\n",
    "            default_y_row = ety_y_row\n",
    "    \n",
    "    window.geometry('600x600')\n",
    "    \n",
    "    window.mainloop()"
   ]
  },
  {
   "cell_type": "code",
   "execution_count": 629,
   "id": "37a8453b",
   "metadata": {},
   "outputs": [],
   "source": [
    "def _find_fail_loc_out(out_xl_df,fail_w_data,fail_c_data,fail_w_info,fail_c_info):\n",
    "    in_w_weight,in_c_weight = 0,0\n",
    "    out_w_weight,out_c_weight = 0,0\n",
    "    find_w_loc_dict,find_c_loc_dict = {},{}\n",
    "    fail_w_row,fail_c_row = [],[]\n",
    "    \n",
    "    w_cat = fail_w_info['category']\n",
    "    c_cat = fail_c_info['category']\n",
    "    \n",
    "    cat_num = 0\n",
    "    for hbl in fail_w_data:\n",
    "        \n",
    "        w_cnt = fail_w_info[hbl]\n",
    "        in_w_weight,out_w_weight = fail_w_data[hbl]\n",
    "        fail_w_row = fail_w_row + (_find_location(out_xl_df,hbl,out_w_weight,w_cat))\n",
    "        \n",
    "    cat_num = cat_num + 1\n",
    "    find_w_loc_dict.update({cat_num:(fail_w_row,w_cat)})\n",
    "        \n",
    "    for hbl in fail_c_data:\n",
    "        \n",
    "        c_cnt = fail_c_info[hbl]\n",
    "        in_c_weight,out_c_weight = fail_c_data[hbl]\n",
    "        fail_c_row = fail_c_row + (_find_location(out_xl_df,hbl,out_c_weight,c_cat))\n",
    "    \n",
    "    cat_num = cat_num + 1\n",
    "    find_c_loc_dict.update({cat_num:(fail_c_row,c_cat)})\n",
    "    \n",
    "    window = _gen_error_win()\n",
    "    _out_total_weight_or_cbm_error_default_labeling(window)\n",
    "    _call_error_message_window(window,find_w_loc_dict,find_c_loc_dict)"
   ]
  },
  {
   "cell_type": "code",
   "execution_count": 630,
   "id": "1e0c6ad7",
   "metadata": {},
   "outputs": [],
   "source": [
    "def call_fail_message(out_xl_df,fail_w_data,fail_c_data,fail_w_info,fail_c_info):\n",
    "    _find_fail_loc_out(out_xl_df,fail_w_data,fail_c_data,fail_w_info,fail_c_info)"
   ]
  },
  {
   "cell_type": "code",
   "execution_count": 631,
   "id": "cb0c7fbc",
   "metadata": {},
   "outputs": [],
   "source": [
    "def _check_comparison_in_out_df(in_xl_df,out_xl_df):\n",
    "    pass_w_data,pass_c_data = {},{}\n",
    "    fail_w_data,fail_c_data = {},{}\n",
    "    empty_w_data,empty_c_data = {},{}\n",
    "    fail_w_info,fail_c_info = {},{}\n",
    "\n",
    "    pass_w_cnt,pass_c_cnt = 0,0\n",
    "    fail_w_cnt,fail_c_cnt = 0,0\n",
    "    empty_w_cnt,empty_c_cnt = 0,0\n",
    "\n",
    "    h_bl_no_list = list(in_xl_df['H.BL NO'].drop_duplicates())\n",
    "    \n",
    "    for li in h_bl_no_list:\n",
    "\n",
    "        input_list_match_df = in_xl_df.copy().loc[(in_xl_df['H.BL NO'] == li),:]\n",
    "        output_list_match_df = out_xl_df.copy().loc[(out_xl_df['HOUSE NO']==li),:]\n",
    "\n",
    "        # Total Weight\n",
    "        in_tot_weight, out_tot_weight =  _check_total_weight(input_list_match_df,output_list_match_df)\n",
    "    \n",
    "        if in_tot_weight == out_tot_weight:\n",
    "            pass_w_cnt = pass_w_cnt + 1\n",
    "            pass_w_data.update({li:(in_tot_weight,out_tot_weight)})\n",
    "        elif (in_tot_weight != 0) and (out_tot_weight != 0):\n",
    "            category = 'weight'\n",
    "            fail_w_cnt = fail_w_cnt + 1\n",
    "            fail_w_data.update({li:(in_tot_weight,out_tot_weight)})\n",
    "            fail_w_info.update({li:fail_w_cnt,'category':category})\n",
    "        elif (in_tot_weight != 0) or (out_tot_weight != 0):\n",
    "            empty_w_cnt = empty_w_cnt + 1\n",
    "            empty_w_data.update({li:(in_tot_weight,out_tot_weight)})\n",
    "        else:\n",
    "            print(\"please check whether input or output weight data is valid\")\n",
    "        \n",
    "        # Total CBM\n",
    "        in_tot_CBM, out_tot_CBM =  _check_total_CBM(input_list_match_df,output_list_match_df)\n",
    "    \n",
    "        if in_tot_CBM == out_tot_CBM:\n",
    "            pass_c_cnt = pass_c_cnt + 1\n",
    "            pass_c_data.update({li:(in_tot_CBM,out_tot_CBM)})\n",
    "        elif (in_tot_CBM != 0) and (out_tot_CBM != 0):\n",
    "            category = 'cbm'\n",
    "            fail_c_cnt = fail_c_cnt + 1\n",
    "            fail_c_data.update({li:(in_tot_CBM,out_tot_CBM)})\n",
    "            fail_c_info.update({li:fail_c_cnt,'category':category})\n",
    "        elif (in_tot_CBM != 0) or (out_tot_CBM != 0):\n",
    "            empty_c_cnt = empty_c_cnt + 1\n",
    "            empty_c_data.update({li:(in_tot_CBM,out_tot_CBM)})\n",
    "        else:\n",
    "            print(\"please check whether input or output CBM data is valid\")\n",
    "\n",
    "    total_w_cnt = pass_w_cnt + fail_w_cnt + empty_w_cnt\n",
    "    total_c_cnt = pass_c_cnt + fail_c_cnt + empty_c_cnt\n",
    "    # print(pass_w_data)\n",
    "    # print(pass_w_cnt)\n",
    "#     print(fail_w_data)\n",
    "    # print(fail_w_cnt)\n",
    "    # print(empty_w_data)\n",
    "    # print(empty_w_cnt)\n",
    "\n",
    "    # print(pass_c_data)\n",
    "    # print(pass_c_cnt)\n",
    "#     print(fail_c_data)\n",
    "    # print(fail_c_cnt)\n",
    "    # print(empty_c_data)\n",
    "    # print(empty_c_cnt)\n",
    "#     fail_dict = fail_w_data.update(fail_c_data) \n",
    "#     fail_cnt = (fail_w_cnt,fail_c_cnt)\n",
    "#     print(fail_cnt)\n",
    "    call_fail_message(out_xl_df,fail_w_data,fail_c_data,fail_w_info,fail_c_info)"
   ]
  },
  {
   "cell_type": "code",
   "execution_count": 632,
   "id": "f1c2493f",
   "metadata": {},
   "outputs": [],
   "source": [
    "def check_comparison_in_out_df(in_xl_df, out_xl_df):\n",
    "    _check_comparison_in_out_df(in_xl_df,out_xl_df)"
   ]
  },
  {
   "cell_type": "code",
   "execution_count": 633,
   "id": "225752e8",
   "metadata": {},
   "outputs": [],
   "source": [
    "check_comparison_in_out_df(input_df, output_df)"
   ]
  },
  {
   "cell_type": "code",
   "execution_count": null,
   "id": "04861b6a",
   "metadata": {},
   "outputs": [],
   "source": []
  },
  {
   "cell_type": "code",
   "execution_count": null,
   "id": "a95ec249",
   "metadata": {},
   "outputs": [],
   "source": []
  }
 ],
 "metadata": {
  "kernelspec": {
   "display_name": "Python 3 (ipykernel)",
   "language": "python",
   "name": "python3"
  },
  "language_info": {
   "codemirror_mode": {
    "name": "ipython",
    "version": 3
   },
   "file_extension": ".py",
   "mimetype": "text/x-python",
   "name": "python",
   "nbconvert_exporter": "python",
   "pygments_lexer": "ipython3",
   "version": "3.8.8"
  }
 },
 "nbformat": 4,
 "nbformat_minor": 5
}
