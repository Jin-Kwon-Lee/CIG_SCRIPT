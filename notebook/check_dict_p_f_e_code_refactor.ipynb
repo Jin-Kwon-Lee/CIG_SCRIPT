{
 "cells": [
  {
   "cell_type": "code",
   "execution_count": 1,
   "id": "3b67e25a",
   "metadata": {},
   "outputs": [],
   "source": [
    "%load_ext autoreload\n",
    "%autoreload 2"
   ]
  },
  {
   "cell_type": "code",
   "execution_count": 2,
   "id": "6452c3a5",
   "metadata": {},
   "outputs": [],
   "source": [
    "import os\n",
    "import pandas as pd\n",
    "import numpy as np\n",
    "import sys\n"
   ]
  },
  {
   "cell_type": "code",
   "execution_count": 20,
   "id": "ae4e752f",
   "metadata": {},
   "outputs": [],
   "source": [
    "from cig_script.get_input_excel_info import get_df_input_excel, get_df_in_custom_frame\n",
    "from cig_script.get_output_excel_info import get_df_output_excel, get_df_out_custom_frame\n",
    "\n",
    "from cig_script.config.config_env import Config\n",
    "from cig_script.processing_and_compare import _check_total_cate"
   ]
  },
  {
   "cell_type": "code",
   "execution_count": 21,
   "id": "149250cf",
   "metadata": {},
   "outputs": [],
   "source": [
    "in_xl_df = get_df_input_excel(Config().in_xl_path, Config().in_xl_sh_name)\n",
    "in_xl_df = get_df_in_custom_frame(in_xl_df)"
   ]
  },
  {
   "cell_type": "code",
   "execution_count": 33,
   "id": "c3211ec4",
   "metadata": {},
   "outputs": [],
   "source": [
    "out_xl_df = get_df_output_excel(Config().out_xl_path)\n",
    "out_xl_df = get_df_out_custom_frame(out_xl_df)"
   ]
  },
  {
   "cell_type": "code",
   "execution_count": 34,
   "id": "f1c2493f",
   "metadata": {},
   "outputs": [],
   "source": [
    "li = 'CIGSINPS2206F014'\n",
    "category = 'weight'"
   ]
  },
  {
   "cell_type": "code",
   "execution_count": 35,
   "id": "225752e8",
   "metadata": {},
   "outputs": [],
   "source": [
    "input_list_match_df = in_xl_df.copy().loc[(in_xl_df['H.BL NO'] == li),:]\n",
    "output_list_match_df = out_xl_df.copy().loc[(out_xl_df['HOUSE NO']==li),:]"
   ]
  },
  {
   "cell_type": "code",
   "execution_count": 36,
   "id": "56db6d15",
   "metadata": {},
   "outputs": [],
   "source": [
    "in_tot_cate,out_tot_cate = _check_total_cate(input_list_match_df,output_list_match_df,category)"
   ]
  },
  {
   "cell_type": "code",
   "execution_count": 37,
   "id": "06de7632",
   "metadata": {},
   "outputs": [
    {
     "data": {
      "text/plain": [
       "1370.0"
      ]
     },
     "execution_count": 37,
     "metadata": {},
     "output_type": "execute_result"
    }
   ],
   "source": [
    "in_tot_cate"
   ]
  },
  {
   "cell_type": "code",
   "execution_count": 38,
   "id": "0983b2f7",
   "metadata": {},
   "outputs": [
    {
     "data": {
      "text/plain": [
       "31.0"
      ]
     },
     "execution_count": 38,
     "metadata": {},
     "output_type": "execute_result"
    }
   ],
   "source": [
    "out_tot_cate"
   ]
  },
  {
   "cell_type": "code",
   "execution_count": 39,
   "id": "bfac9f35",
   "metadata": {},
   "outputs": [],
   "source": [
    "pass_data,fail_data,empty_data,fail_info={},{},{},{}\n",
    "pass_cnt,fail_cnt,empty_cnt=0,0,0"
   ]
  },
  {
   "cell_type": "code",
   "execution_count": 40,
   "id": "39b8d1b5",
   "metadata": {},
   "outputs": [],
   "source": [
    "if in_tot_cate == out_tot_cate:\n",
    "    pass_cnt = pass_cnt + 1\n",
    "    pass_data.update({li:(in_tot_cate,out_tot_cate)})\n",
    "elif (in_tot_cate != 0) and (out_tot_cate != 0):\n",
    "    fail_cnt = fail_cnt + 1\n",
    "    fail_data.update({li:(in_tot_cate,out_tot_cate)})\n",
    "    fail_info.update({li:fail_cnt,'category':category})\n",
    "elif (in_tot_cate != 0) or (out_tot_cate != 0):\n",
    "    empty_cnt = empty_cnt + 1\n",
    "    empty_data.update({li:(in_tot_cate,out_tot_cate)})\n",
    "else:\n",
    "    print(\"please check whether input or output data is valid\")"
   ]
  },
  {
   "cell_type": "code",
   "execution_count": 43,
   "id": "5782990e",
   "metadata": {},
   "outputs": [
    {
     "data": {
      "text/plain": [
       "{'CIGSINPS2206F014': (1370.0, 31.0)}"
      ]
     },
     "execution_count": 43,
     "metadata": {},
     "output_type": "execute_result"
    }
   ],
   "source": [
    "fail_data"
   ]
  },
  {
   "cell_type": "code",
   "execution_count": null,
   "id": "eb178779",
   "metadata": {},
   "outputs": [],
   "source": []
  }
 ],
 "metadata": {
  "kernelspec": {
   "display_name": "Python 3 (ipykernel)",
   "language": "python",
   "name": "python3"
  },
  "language_info": {
   "codemirror_mode": {
    "name": "ipython",
    "version": 3
   },
   "file_extension": ".py",
   "mimetype": "text/x-python",
   "name": "python",
   "nbconvert_exporter": "python",
   "pygments_lexer": "ipython3",
   "version": "3.8.8"
  }
 },
 "nbformat": 4,
 "nbformat_minor": 5
}
