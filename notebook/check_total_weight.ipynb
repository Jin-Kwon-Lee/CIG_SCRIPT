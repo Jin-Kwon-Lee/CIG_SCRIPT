{
 "cells": [
  {
   "cell_type": "code",
   "execution_count": 1,
   "id": "3b67e25a",
   "metadata": {},
   "outputs": [],
   "source": [
    "%load_ext autoreload\n",
    "%autoreload 2"
   ]
  },
  {
   "cell_type": "code",
   "execution_count": 2,
   "id": "6452c3a5",
   "metadata": {},
   "outputs": [],
   "source": [
    "import os\n",
    "import pandas as pd\n",
    "import numpy as np\n",
    "import sys\n"
   ]
  },
  {
   "cell_type": "code",
   "execution_count": null,
   "id": "ae4e752f",
   "metadata": {},
   "outputs": [],
   "source": []
  },
  {
   "cell_type": "code",
   "execution_count": 3,
   "id": "5865cb79",
   "metadata": {},
   "outputs": [],
   "source": [
    "local_path = 'C:/Users/USER/Desktop/CIG/data/'"
   ]
  },
  {
   "cell_type": "code",
   "execution_count": 4,
   "id": "86a1abb7",
   "metadata": {},
   "outputs": [],
   "source": [
    "# Excel path, name, sheet, row,column configuration\n",
    "\n",
    "excel_date = '220723'\n",
    "in_xl_name = 'input_excel_data_' + excel_date\n",
    "out_xl_name = 'output_excel_raw_data_' + excel_date\n",
    "\n",
    "in_xl_path = local_path + in_xl_name + '.xlsx'\n",
    "sheet_name = '리스트'\n",
    "out_xl_path = local_path + out_xl_name + '.xls'"
   ]
  },
  {
   "cell_type": "code",
   "execution_count": 5,
   "id": "149250cf",
   "metadata": {},
   "outputs": [],
   "source": [
    "input_df = pd.read_excel(in_xl_path, sheet_name= sheet_name)"
   ]
  },
  {
   "cell_type": "code",
   "execution_count": 25,
   "id": "c3211ec4",
   "metadata": {},
   "outputs": [],
   "source": [
    "custom_col = ['H.BL NO',\n",
    "              'M.BL NO',\n",
    "              'SHIPPER',\n",
    "              'CNEE',\n",
    "              'ACID',\n",
    "              'MODEL',\n",
    "              'YR',\n",
    "              'CHASSINO.',\n",
    "              'WEIGHT',\n",
    "              'CBM']"
   ]
  },
  {
   "cell_type": "code",
   "execution_count": 26,
   "id": "7773382a",
   "metadata": {
    "scrolled": true
   },
   "outputs": [],
   "source": [
    "input_df = input_df[custom_col]"
   ]
  },
  {
   "cell_type": "code",
   "execution_count": 27,
   "id": "3fea96b3",
   "metadata": {},
   "outputs": [],
   "source": [
    "skip_row_nums =2 \n",
    "output_df = pd.read_excel(out_xl_path, skiprows=skip_row_nums)\n",
    "output_df = output_df.dropna(how='all')"
   ]
  },
  {
   "cell_type": "code",
   "execution_count": 28,
   "id": "2e58f57f",
   "metadata": {},
   "outputs": [],
   "source": [
    "h_bl_no_list = list(input_df['H.BL NO'].drop_duplicates())"
   ]
  },
  {
   "cell_type": "code",
   "execution_count": 31,
   "id": "5e1458a2",
   "metadata": {},
   "outputs": [],
   "source": [
    "def _check_total_weight(in_df,out_df):\n",
    "    in_tot_weight = in_df['WEIGHT'].sum()\n",
    "    out_tot_weight = out_df['G.W/T'].sum()\n",
    "#     print(in_tot_weight, out_tot_weight)\n",
    "    return in_tot_weight,out_tot_weight"
   ]
  },
  {
   "cell_type": "code",
   "execution_count": 35,
   "id": "cb0c7fbc",
   "metadata": {},
   "outputs": [
    {
     "name": "stdout",
     "output_type": "stream",
     "text": [
      "{'CIGSINPS2206F020': (13950, 0.0), 'CIGSINPS2206F021': (11815, 0.0), 'CIGSINPS2206F022': (12921, 0.0), 'CIGSINPS2206F236': (1515, 0.0), 'CIGSINPS2206F237': (1515, 0.0), 'CIGSINPS2206F238': (1515, 0.0), 'CIGSINPS2206F239': (1515, 0.0), 'CIGSINPS2206F240': (1580, 0.0), 'CIGSINPS2206F066': (1515, 0.0), 'CIGSINPS2206F025': (1520, 0.0), 'CIGSINPS2206F065': (1515, 0.0), 'CIGSINPS2206F027': (1370, 0.0), 'CIGSINPS2206F067': (1210, 0.0), 'CIGSINPS2206F068': (1505, 0.0), 'CIGSINPS2206F069': (1160, 0.0), 'CIGSINPS2206F028': (1110, 0.0), 'CIGSINPS2206F038': (1530, 0.0), 'CIGSINPS2206F070': (1150, 0.0), 'CIGSINPS2206F088': (1170, 0.0), 'CIGSINPS2206F039': (1525, 0.0), 'CIGSINPS2206F029': (1150, 0.0), 'CIGSINPS2206F216': (1515, 0.0), 'CIGSINPS2206F030': (1151, 0.0), 'CIGSINPS2206F071': (1505, 0.0), 'CIGSINPS2206F052': (1847, 0.0), 'CIGSINPS2206F090': (1435, 0.0), 'CIGSINPS2206F031': (1205, 0.0), 'CIGSINPS2206F072': (1505, 0.0), 'CIGSINPS2206F054': (1190, 0.0), 'CIGSINPS2206F073': (1370, 0.0), 'CIGSINPS2206F074': (1185, 0.0), 'CIGSINPS2206F032': (1545, 0.0), 'CIGSINPS2206F075': (1150, 0.0), 'CIGSINPS2206F076': (1510, 0.0), 'CIGSINPS2206F222': (1505, 0.0), 'CIGSINPS2206F077': (1515, 0.0), 'CIGSINPS2206F217': (1510, 0.0), 'CIGSINPS2206F042': (1150, 0.0), 'CIGSINPS2206F053': (1190, 0.0), 'CIGSINPS2206F026': (1191, 0.0), 'CIGSINPS2206F064': (1095, 0.0), 'CIGSINPS2206F078': (1170, 0.0), 'CIGSINPS2206F056': (1160, 0.0), 'CIGSINPS2206F223': (1510, 0.0), 'CIGSINPS2206F063': (1205, 0.0), 'CIGSINPS2206F218': (1190, 0.0), 'CIGSINPS2206F040': (6185, 0.0), 'CIGSINPS2206F241': (1191, 0.0), 'CIGSINPS2206F224': (1175, 0.0), 'CIGSINPS2206F062': (1950, 0.0), 'CIGSINPS2206F079': (1580, 0.0), 'CIGSINPS2206F089': (1535, 0.0), 'CIGSINPS2206F219': (1245, 0.0), 'CIGSINPS2206F057': (1205, 0.0), 'CIGSINPS2206F080': (1510, 0.0), 'CIGSINPS2206F225': (1505, 0.0), 'CIGSINPS2206F033': (1150, 0.0), 'CIGSINPS2206F081': (1205, 0.0), 'CIGSINPS2206F082': (1160, 0.0), 'CIGSINPS2206F083': (1730, 0.0), 'CIGSINPS2206F220': (1200, 0.0), 'CIGSINPS2206F061': (1510, 0.0), 'CIGSINPS2206F034': (1515, 0.0), 'CIGSINPS2206F226': (1180, 0.0), 'CIGSINPS2206F235': (1510, 0.0), 'CIGSINPS2206F050': (1505, 0.0), 'CIGSINPS2206F048': (1190, 0.0), 'CIGSINPS2206F060': (1150, 0.0), 'CIGSINPS2206F084': (1150, 0.0), 'CIGSINPS2206F051': (1580, 0.0), 'CIGSINPS2206F058': (1200, 0.0), 'CIGSINPS2206F059': (1530, 0.0), 'CIGSINPS2206F035': (1170, 0.0), 'CIGSINPS2206F055': (1190, 0.0), 'CIGSINPS2206F085': (1510, 0.0), 'CIGSINPS2206F049': (1580, 0.0), 'CIGSINPS2206F086': (1191, 0.0), 'CIGSINPS2206F221': (1191, 0.0), 'CIGSINPS2206F087': (1575, 0.0), 'CIGSINPS2206F041': (12217, 0.0), 'CIGSINPS2206F233': (12310, 0.0), 'CIGSINPS2206F232': (8492, 0.0), 'CIGSINPS2206F207': (1220, 0.0), 'CIGSINPS2206F234': (10956, 0.0), 'CIGSINPS2206F231': (1190, 0.0), 'CIGSINPS2206F208': (1520, 0.0), 'CIGSINPS2206F209': (1170, 0.0), 'CIGSINPS2206F037': (14232, 0.0), 'CIGSINPS2206F036': (17405, 0.0), 'CIGSINPS2206F228': (17468, 0.0), 'CIGSINPS2206F227': (17202, 0.0), 'CIGSINPS2206F229': (17075, 0.0), 'CIGSINPS2206F230': (15695, 0.0), 'CIGSINPS2206F091': (1150, 0.0), 'CIGSINPS2206F092': (1162, 0.0), 'CIGSINPS2206F093': (1095, 0.0), 'CIGSINPS2206F094': (1185, 0.0), 'CIGSINPS2206F095': (1500, 0.0), 'CIGSINPS2206F096': (1205, 0.0), 'CIGSINPS2206F097': (1191, 0.0), 'CIGSINPS2206F098': (1191, 0.0), 'CIGSINPS2206F099': (1190, 0.0), 'CIGSINPS2206F200': (1500, 0.0), 'CIGSINPS2206F043': (1800, 0.0), 'CIGSINPS2206F214': (1340, 0.0), 'CIGSINPS2206F210': (1000, 0.0), 'CIGSINPS2206F211': (1600, 0.0), 'CIGSINPS2206F212': (1535, 0.0), 'CIGSINPS2206F213': (1775, 0.0), 'CIGSINPS2206F046': (1250, 0.0), 'CIGSINPS2206F047': (1420, 0.0), 'CIGSINPS2206F215': (1520, 0.0), 'CIGSINPS2206F201': (1191, 0.0), 'CIGSINPS2206F202': (1180, 0.0), 'CIGSINPS2206F203': (1260, 0.0), 'CIGSINPS2206F204': (1250, 0.0), 'CIGSINPS2206F044': (1150, 0.0), 'CIGSINPS2206F045': (1515, 0.0), 'CIGSINPS2206F205': (1500, 0.0), 'CIGSINPS2206F206': (1500, 0.0), 'CIGSINPS2206F023': (15890, 0.0), 'CIGSINPS2206F024': (14015, 0.0)}\n",
      "122\n"
     ]
    }
   ],
   "source": [
    "pass_dict={}\n",
    "fail_dict={}\n",
    "empty_dict={}\n",
    "pass_cnt = 0\n",
    "fail_cnt = 0\n",
    "empty_cnt = 0\n",
    "\n",
    "for li in h_bl_no_list:\n",
    "    input_list_match_df = input_df.copy().loc[(input_df['H.BL NO'] == li),:]\n",
    "    \n",
    "        \n",
    "    output_list_match_df = output_df.copy().loc[(output_df['HOUSE NO']==li),:]\n",
    "    \n",
    "    in_tot_weight, out_tot_weight =  _check_total_weight(input_list_match_df,output_list_match_df)\n",
    "\n",
    "    if in_tot_weight == out_tot_weight:\n",
    "        pass_cnt = pass_cnt + 1\n",
    "        pass_dict.update({li:(in_tot_weight,out_tot_weight)})\n",
    "    elif (in_tot_weight != 0) and (out_tot_weight != 0):\n",
    "        fail_cnt = fail_cnt + 1\n",
    "        fail_dict.update({li:(in_tot_weight,out_tot_weight)})\n",
    "    elif (in_tot_weight != 0) or (out_tot_weight != 0):\n",
    "        empty_cnt = empty_cnt + 1\n",
    "        empty_dict.update({li:(in_tot_weight,out_tot_weight)})\n",
    "    else:\n",
    "        print(\"please check whether input or output data is valid\")\n",
    "\n",
    "total_cnt = pass_cnt + fail_cnt + empty_cnt\n",
    "# print(pass_dict)\n",
    "# print(pass_cnt)\n",
    "# print(fail_dict)\n",
    "# print(fail_cnt)\n",
    "# print(empty_dict)\n",
    "# print(empty_cnt)\n",
    "    "
   ]
  },
  {
   "cell_type": "code",
   "execution_count": null,
   "id": "f1c2493f",
   "metadata": {},
   "outputs": [],
   "source": []
  },
  {
   "cell_type": "code",
   "execution_count": null,
   "id": "225752e8",
   "metadata": {},
   "outputs": [],
   "source": []
  }
 ],
 "metadata": {
  "kernelspec": {
   "display_name": "Python 3 (ipykernel)",
   "language": "python",
   "name": "python3"
  },
  "language_info": {
   "codemirror_mode": {
    "name": "ipython",
    "version": 3
   },
   "file_extension": ".py",
   "mimetype": "text/x-python",
   "name": "python",
   "nbconvert_exporter": "python",
   "pygments_lexer": "ipython3",
   "version": "3.8.8"
  }
 },
 "nbformat": 4,
 "nbformat_minor": 5
}
